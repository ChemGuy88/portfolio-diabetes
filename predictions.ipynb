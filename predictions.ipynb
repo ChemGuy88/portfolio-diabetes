{
 "cells": [
  {
   "cell_type": "markdown",
   "metadata": {},
   "source": [
    "# Diabetes Prediction: Model-Building\n",
    "This notebook is only for the code of the models and their predictions. For a detailed narrative, please see the report. For the exploratory analysis, see the corresponding notebook.\n",
    "## Module imports and notebook-wide variables"
   ]
  },
  {
   "cell_type": "code",
   "execution_count": null,
   "metadata": {},
   "outputs": [],
   "source": []
  }
 ],
 "metadata": {
  "language_info": {
   "name": "python"
  },
  "orig_nbformat": 4
 },
 "nbformat": 4,
 "nbformat_minor": 2
}
